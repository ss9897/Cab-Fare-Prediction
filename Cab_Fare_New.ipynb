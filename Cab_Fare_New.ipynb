{
 "cells": [
  {
   "cell_type": "code",
   "execution_count": 224,
   "metadata": {},
   "outputs": [],
   "source": [
    "import os\n",
    "import pandas as pd\n",
    "import numpy as np\n",
    "import math\n",
    "\n",
    "#------ for model evaluation -----\n",
    "from sklearn.metrics import mean_squared_error\n",
    "from sklearn.metrics import r2_score\n",
    "\n",
    "#----- for preprocessing\n",
    "from sklearn.preprocessing import Normalizer\n",
    "from sklearn.preprocessing import StandardScaler\n",
    "\n",
    "#---- for model building\n",
    "from sklearn.linear_model import LinearRegression\n",
    "from sklearn.ensemble import RandomForestRegressor\n",
    "from sklearn.tree import DecisionTreeRegressor\n",
    "\n",
    "#---- for visualization---\n",
    "import matplotlib.pyplot as plt \n",
    "import seaborn as sns\n",
    "\n",
    "from scipy import stats\n",
    "from sklearn.model_selection import train_test_split"
   ]
  },
  {
   "cell_type": "code",
   "execution_count": 225,
   "metadata": {},
   "outputs": [
    {
     "data": {
      "text/plain": [
       "'C:\\\\Users\\\\SAURABH SHRIVASTAVA\\\\OneDrive\\\\Data Scientist\\\\Edwisor project 2'"
      ]
     },
     "execution_count": 225,
     "metadata": {},
     "output_type": "execute_result"
    }
   ],
   "source": [
    "os.chdir(\"C:/Users/SAURABH SHRIVASTAVA/OneDrive/Data Scientist/Edwisor project 2\")\n",
    "os.getcwd()"
   ]
  },
  {
   "cell_type": "code",
   "execution_count": 226,
   "metadata": {},
   "outputs": [
    {
     "name": "stdout",
     "output_type": "stream",
     "text": [
      "  fare_amount          pickup_datetime  pickup_longitude  pickup_latitude  \\\n",
      "0         4.5  2009-06-15 17:26:21 UTC        -73.844311        40.721319   \n",
      "1        16.9  2010-01-05 16:52:16 UTC        -74.016048        40.711303   \n",
      "2         5.7  2011-08-18 00:35:00 UTC        -73.982738        40.761270   \n",
      "3         7.7  2012-04-21 04:30:42 UTC        -73.987130        40.733143   \n",
      "4         5.3  2010-03-09 07:51:00 UTC        -73.968095        40.768008   \n",
      "\n",
      "   dropoff_longitude  dropoff_latitude  passenger_count  \n",
      "0         -73.841610         40.712278              1.0  \n",
      "1         -73.979268         40.782004              1.0  \n",
      "2         -73.991242         40.750562              2.0  \n",
      "3         -73.991567         40.758092              1.0  \n",
      "4         -73.956655         40.783762              1.0  \n"
     ]
    }
   ],
   "source": [
    "cab_data = pd.read_csv(\"C:/Users/SAURABH SHRIVASTAVA/OneDrive/Data Scientist/Edwisor project 2/train_cab.csv\")\n",
    "print(cab_data.head())"
   ]
  },
  {
   "cell_type": "markdown",
   "metadata": {},
   "source": [
    "# Data Preprocesssing"
   ]
  },
  {
   "cell_type": "markdown",
   "metadata": {},
   "source": [
    "### Data Exploring, cleaning and invalid removal"
   ]
  },
  {
   "cell_type": "code",
   "execution_count": 227,
   "metadata": {},
   "outputs": [],
   "source": [
    "def data_clean(cab_df):\n",
    "    \n",
    "    #checking the datatype of each variable\n",
    "    print(\"Shape of dataframe -----\", cab_df.shape)\n",
    "    print(\"\\nData type of each Variable are-------------\\n\")\n",
    "    print(cab_df.info())\n",
    "    \n",
    "    #Converting datatype\n",
    "    if(\"fare_amount\" in cab_df.columns):\n",
    "        cab_df['fare_amount']=pd.to_numeric(cab_df['fare_amount'], errors='coerce')\n",
    "    cab_df['pickup_datetime']=pd.to_datetime(cab_df['pickup_datetime'], errors='coerce')\n",
    "    cab_df.info()\n",
    "    \n",
    "    #Getting years, month, time from datetime variable\n",
    "    cab_df['pickup_year']= cab_df['pickup_datetime'].dt.year\n",
    "    cab_df['pickup_month']=cab_df['pickup_datetime'].dt.month\n",
    "    cab_df['pickup_month_day']=cab_df['pickup_datetime'].dt.day\n",
    "    cab_df['pickup_hour']=cab_df['pickup_datetime'].dt.hour\n",
    "    cab_df['pickup_minute']=cab_df['pickup_datetime'].dt.minute\n",
    "    cab_df['pickup_second']=cab_df['pickup_datetime'].dt.second\n",
    "    \n",
    "    #Droping pickup date time\n",
    "    cab_df=cab_df.drop(['pickup_datetime'], axis=1)\n",
    "    cab_df=cab_df.drop(['pickup_second'], axis=1)\n",
    "    cab_df=cab_df.drop(['pickup_minute'], axis=1)\n",
    "    cab_df.head()\n",
    "    print(\"\\nShape of dataframe:\",cab_df.shape)\n",
    "    \n",
    "    #removing invalid values\n",
    "    if(\"fare_amount\" in cab_df.columns):\n",
    "        cab_df=cab_df[cab_df[\"fare_amount\"]>1]\n",
    "    cab_df=cab_df[cab_df[\"pickup_longitude\"]!=0]\n",
    "    cab_df=cab_df[cab_df[\"dropoff_longitude\"]!=0]\n",
    "    cab_df=cab_df[cab_df[\"pickup_latitude\"]!=0]\n",
    "    cab_df=cab_df[cab_df[\"dropoff_latitude\"]!=0]\n",
    "    \n",
    "    #Since in normal situtation, can not have passenger more than 7, \n",
    "    #which include 1-driver also, so we will drop passenger count more than 6\n",
    "    cab_df=cab_df[cab_df[\"passenger_count\"]<7]\n",
    "    cab_df=cab_df[cab_df[\"passenger_count\"]>=1]\n",
    "    print(\"\\nShape of dataframe:\",cab_df.shape)\n",
    "    #cab_df.describe()\n",
    "    \n",
    "    #checking latitude and longitude for its valid range\n",
    "    #latitude : -90 to 90\n",
    "    #longtitude : -180 to 180\n",
    "    \n",
    "    cab_df=cab_df[cab_df[\"dropoff_latitude\"]>=-90] \n",
    "    cab_df=cab_df[cab_df[\"dropoff_latitude\"]<=90]\n",
    "    cab_df=cab_df[cab_df[\"pickup_latitude\"]>=-90] \n",
    "    cab_df=cab_df[cab_df[\"pickup_latitude\"]<=90]\n",
    "    cab_df=cab_df[cab_df[\"dropoff_longitude\"]>=-180] \n",
    "    cab_df=cab_df[cab_df[\"dropoff_longitude\"]<=180]\n",
    "    cab_df=cab_df[cab_df[\"pickup_longitude\"]>=-180] \n",
    "    cab_df=cab_df[cab_df[\"pickup_longitude\"]<=180]\n",
    "    \n",
    "    \n",
    "#    (cab_df[cab_df[\"dropoff_latitude\"]<-90] & cab_df[cab_df[\"dropoff_latitude\"]>90]).shape # no invalid found\n",
    "#    (cab_df[cab_df[\"pickup_latitude\"]<-90] & cab_df[cab_df[\"pickup_latitude\"]>90]).shape #single observation found\n",
    "#    (cab_df[cab_df[\"dropoff_longitude\"]<-180] & cab_df[cab_df[\"dropoff_longitude\"]>180]).shape # no invalid\n",
    "#    (cab_df[cab_df[\"dropoff_longitude\"]<-180] & cab_df[cab_df[\"dropoff_longitude\"]>180]).shape # no invalid\n",
    "    \n",
    "    #dropping observation ranging outside -90 to 90 for latitude\n",
    " #   cab_df=cab_df[cab_df[\"pickup_latitude\"]>-90]\n",
    " #   cab_df=cab_df[cab_df[\"pickup_latitude\"]<90]\n",
    "    print(\"\\nData Cleaning done, Invalid value removed..\\n\")\n",
    "    \n",
    "    return cab_df\n"
   ]
  },
  {
   "cell_type": "code",
   "execution_count": 228,
   "metadata": {},
   "outputs": [],
   "source": [
    "def Missing_value(cab_df):\n",
    "    #checking missing value\n",
    "    print(pd.DataFrame(cab_df.isna().sum(), columns={'Missing Value'}))\n",
    "    \n",
    "    #For missing value in current scenario , we can use mode/median. \n",
    "    #But since single observation only have all missing value we can just drop that single observation\n",
    "    cab_df=cab_df.dropna()\n",
    "    print(\"\\nShape of data after missing value removal\",cab_df.shape)\n",
    "        \n",
    "    return cab_df\n"
   ]
  },
  {
   "cell_type": "markdown",
   "metadata": {},
   "source": [
    "Converting cordinates to distance"
   ]
  },
  {
   "cell_type": "code",
   "execution_count": 229,
   "metadata": {},
   "outputs": [],
   "source": [
    "def find_distance(cab_df):\n",
    "    \n",
    "    #!pip install haversine\n",
    "    import haversine as hs\n",
    "    temp=[]\n",
    "    range(cab_df.shape[0])\n",
    "    \n",
    "    for i in range(cab_df.shape[0]):\n",
    "        temp.append(hs.haversine((cab_df[\"pickup_latitude\"].iloc[i],cab_df[\"pickup_longitude\"].iloc[i]),(cab_df[\"dropoff_latitude\"].iloc[i],cab_df[\"dropoff_longitude\"].iloc[i])))\n",
    "    cab_df[\"distance\"]=temp\n",
    "    cab_df[\"distance\"]=round(cab_df[\"distance\"],2)\n",
    "    cab_df[\"distance\"].describe()\n",
    "    cab_df.nlargest(10, [\"distance\"])\n",
    "    cab_df=cab_df.drop([\"pickup_longitude\",\"pickup_latitude\",\"dropoff_longitude\",\"dropoff_latitude\"], axis=1)\n",
    "    cab_df.shape\n",
    "    print(\"\\nDistance feature created in our dataset, pickup and dropoff cordinates are removed\\n\")\n",
    "    \n",
    "    return cab_df"
   ]
  },
  {
   "cell_type": "markdown",
   "metadata": {},
   "source": [
    "### Outlier Analysis"
   ]
  },
  {
   "cell_type": "code",
   "execution_count": 230,
   "metadata": {},
   "outputs": [],
   "source": [
    "def Outlier(cab_df):\n",
    "    #using box plot analysis\n",
    "    \n",
    "        \n",
    "    #boxplot for distance\n",
    "    plt.figure(figsize=(7,3))\n",
    "    plt.boxplot(cab_df['distance'])\n",
    "    plt.ylabel('distance')\n",
    "    plt.title(\"Boxplot for distance\")\n",
    "        \n",
    "    #boxplot for fare_amount\n",
    "    \n",
    "    if(\"fare_amount\" in cab_df.columns):\n",
    "        plt.figure(figsize=(7,3))\n",
    "        plt.boxplot(cab_df['fare_amount'])\n",
    "        plt.ylabel('fare_amount')\n",
    "        plt.title(\"Boxplot for fare_amount\")\n",
    " \n",
    "    ###### Removing outlier ##############\n",
    "    \n",
    "    if(\"fare_amount\" in cab_df.columns):\n",
    "        #checking the largest top-10 fare_amount\n",
    "        print(\"Top 10 Largest fare data are\\n\", cab_df[\"fare_amount\"].nlargest(10))\n",
    "        print(\"Top 10 Smallest fares data are\\n\", cab_df[\"fare_amount\"].nsmallest(10))\n",
    "        #removing the outlier fare_amount\n",
    "        cab_df=cab_df[cab_df[\"fare_amount\"]<=453]\n",
    "        cab_df=cab_df[cab_df[\"fare_amount\"]>1]\n",
    "    \n",
    "    #checking largest top-10 distance\n",
    "    cab_df.nlargest(10, [\"distance\"])\n",
    "    \n",
    "    #removing the outlier fare_amount\n",
    "    cab_df=cab_df[cab_df[\"distance\"]<130]\n",
    "    cab_df=cab_df[cab_df[\"distance\"]!=0]\n",
    "    \n",
    "    #removing invalid passenger count\n",
    "    cab_df=cab_df[cab_df[\"passenger_count\"]!=1.3]\n",
    "    print(\"\\nOutlier are removed...\")\n",
    "    \n",
    "    return cab_df"
   ]
  },
  {
   "cell_type": "code",
   "execution_count": 231,
   "metadata": {
    "scrolled": true
   },
   "outputs": [],
   "source": [
    "def Anova(cab_df):\n",
    "    cat_variable=[\"passenger_count\", \"pickup_year\", \"pickup_month\", \"pickup_month_day\", \"pickup_hour\"]\n",
    "    \n",
    "    #Doing Anova Test for correlation analysis, for catagorical attributes\n",
    "    for i in cat_variable:\n",
    "        f, p = stats.f_oneway(cab_df[i], cab_df[\"fare_amount\"])\n",
    "        print(\"\\nANOVA TEST: P value for variable \"+str(i)+\" is \"+str(p))\n",
    "        #print(\"f value for variable \"+str(i)+\" is \"+str(f))\n",
    "\n",
    "        #We see p-value for all variables is below 0.05, hence no variable is required to be dropped\n",
    "        \n",
    "    return cab_df"
   ]
  },
  {
   "cell_type": "markdown",
   "metadata": {},
   "source": [
    "### Feature Scaling"
   ]
  },
  {
   "cell_type": "code",
   "execution_count": 232,
   "metadata": {},
   "outputs": [],
   "source": [
    "def Scaling(cab_df):\n",
    "    \n",
    "    #checking varible distribution for continous varible\n",
    "    sns.distplot(cab_df['distance'],bins='auto',color='blue')\n",
    "    plt.title(\"Variable Distribution for distance\")\n",
    "    plt.xlabel('distance')\n",
    "    plt.show() \n",
    "    \n",
    "    if \"fare_amount\" in cab_df.columns:\n",
    "        #checking varible distribution for continous varible\n",
    "        sns.distplot(cab_df['fare_amount'],bins='auto',color='blue')\n",
    "        plt.title(\"Variable Distribution for fare_amount\")\n",
    "        plt.xlabel('fare_amount')\n",
    "        plt.show() \n",
    "    \n",
    "    \n",
    "    #Removing skewness of data\n",
    "    cnames=[\"fare_amount\", \"distance\"]\n",
    "    #using logarithm transformation for reducing skewness\n",
    "    \n",
    "    if(\"fare_amount\" in cab_df.columns):\n",
    "        cab_df['fare_amount'] = np.log1p(cab_df['fare_amount'])\n",
    "    cab_df['distance'] = np.log1p(cab_df['distance'])\n",
    "    \n",
    "    #rechecking the skewness after log transformation, \n",
    "    #since our skewness reduced, we do not requires scaling technique further like normalisation and standardisation\n",
    "    \n",
    "    print(\"\\nDistribution after Scaling..\\n\")\n",
    "    \n",
    "    #checking varible distribution for continous varible\n",
    "    sns.distplot(cab_df['distance'],bins='auto',color='blue')\n",
    "    plt.title(\"Variable Distribution for distance\")\n",
    "    plt.xlabel('distance')\n",
    "    plt.show() \n",
    "    \n",
    "    if \"fare_amount\" in cab_df.columns:\n",
    "        #checking varible distribution for continous varible\n",
    "        sns.distplot(cab_df['fare_amount'],bins='auto',color='blue')\n",
    "        plt.title(\"Variable Distribution for fare_amount\")\n",
    "        plt.xlabel('fare_amount')\n",
    "        plt.show() \n",
    "    \n",
    "    return cab_df"
   ]
  },
  {
   "cell_type": "markdown",
   "metadata": {},
   "source": [
    "#### Creating Dummy Variable for Categorical features"
   ]
  },
  {
   "cell_type": "code",
   "execution_count": 233,
   "metadata": {},
   "outputs": [],
   "source": [
    "def Create_dummy(cab_df):\n",
    "    \n",
    "    #Creating dummy variable\n",
    "    cab = pd.get_dummies(data = cab_df, columns = cat_variable)\n",
    "    return cab"
   ]
  },
  {
   "cell_type": "code",
   "execution_count": 234,
   "metadata": {},
   "outputs": [
    {
     "name": "stdout",
     "output_type": "stream",
     "text": [
      "Shape of dataframe ----- (16067, 7)\n",
      "\n",
      "Data type of each Variable are-------------\n",
      "\n",
      "<class 'pandas.core.frame.DataFrame'>\n",
      "RangeIndex: 16067 entries, 0 to 16066\n",
      "Data columns (total 7 columns):\n",
      "fare_amount          16043 non-null object\n",
      "pickup_datetime      16067 non-null object\n",
      "pickup_longitude     16067 non-null float64\n",
      "pickup_latitude      16067 non-null float64\n",
      "dropoff_longitude    16067 non-null float64\n",
      "dropoff_latitude     16067 non-null float64\n",
      "passenger_count      16012 non-null float64\n",
      "dtypes: float64(5), object(2)\n",
      "memory usage: 878.7+ KB\n",
      "None\n",
      "<class 'pandas.core.frame.DataFrame'>\n",
      "RangeIndex: 16067 entries, 0 to 16066\n",
      "Data columns (total 7 columns):\n",
      "fare_amount          16042 non-null float64\n",
      "pickup_datetime      16066 non-null datetime64[ns, UTC]\n",
      "pickup_longitude     16067 non-null float64\n",
      "pickup_latitude      16067 non-null float64\n",
      "dropoff_longitude    16067 non-null float64\n",
      "dropoff_latitude     16067 non-null float64\n",
      "passenger_count      16012 non-null float64\n",
      "dtypes: datetime64[ns, UTC](1), float64(6)\n",
      "memory usage: 878.7 KB\n",
      "\n",
      "Shape of dataframe: (16067, 10)\n",
      "\n",
      "Shape of dataframe: (15585, 10)\n",
      "\n",
      "Data Cleaning done, Invalid value removed..\n",
      "\n",
      "                   Missing Value\n",
      "fare_amount                    0\n",
      "pickup_longitude               0\n",
      "pickup_latitude                0\n",
      "dropoff_longitude              0\n",
      "dropoff_latitude               0\n",
      "passenger_count                0\n",
      "pickup_year                    1\n",
      "pickup_month                   1\n",
      "pickup_month_day               1\n",
      "pickup_hour                    1\n",
      "\n",
      "Shape of data after missing value removal (15583, 10)\n",
      "\n",
      "Distance feature created in our dataset, pickup and dropoff cordinates are removed\n",
      "\n",
      "Top 10 Largest fare data are\n",
      " 1015     54343.00\n",
      "1072      4343.00\n",
      "607        453.00\n",
      "980        434.00\n",
      "1335       180.00\n",
      "1483       165.00\n",
      "14142      108.00\n",
      "12349      104.67\n",
      "12915       96.00\n",
      "7810        95.00\n",
      "Name: fare_amount, dtype: float64\n",
      "Top 10 Smallest fares data are\n",
      " 1427    1.14\n",
      "226     2.50\n",
      "503     2.50\n",
      "657     2.50\n",
      "922     2.50\n",
      "1419    2.50\n",
      "1671    2.50\n",
      "1684    2.50\n",
      "1750    2.50\n",
      "1774    2.50\n",
      "Name: fare_amount, dtype: float64\n",
      "\n",
      "Outlier are removed...\n",
      "\n",
      "ANOVA TEST: P value for variable passenger_count is 0.0\n",
      "\n",
      "ANOVA TEST: P value for variable pickup_year is 0.0\n",
      "\n",
      "ANOVA TEST: P value for variable pickup_month is 0.0\n",
      "\n",
      "ANOVA TEST: P value for variable pickup_month_day is 0.0\n",
      "\n",
      "ANOVA TEST: P value for variable pickup_hour is 1.0805697402574481e-101\n"
     ]
    },
    {
     "data": {
      "image/png": "[encoded data removed]",
      "text/plain": [
       "<Figure size 504x216 with 1 Axes>"
      ]
     },
     "metadata": {
      "needs_background": "light"
     },
     "output_type": "display_data"
    },
    {
     "data": {
      "image/png": "[encoded data removed]",
      "text/plain": [
       "<Figure size 504x216 with 1 Axes>"
      ]
     },
     "metadata": {
      "needs_background": "light"
     },
     "output_type": "display_data"
    },
    {
     "data": {
      "image/png": "[encoded data removed]",
      "text/plain": [
       "<Figure size 432x288 with 1 Axes>"
      ]
     },
     "metadata": {
      "needs_background": "light"
     },
     "output_type": "display_data"
    },
    {
     "name": "stdout",
     "output_type": "stream",
     "text": [
      "\n",
      "Distribution after Scaling..\n",
      "\n"
     ]
    },
    {
     "data": {
      "image/png": "[encoded data removed]",
      "text/plain": [
       "<Figure size 432x288 with 1 Axes>"
      ]
     },
     "metadata": {
      "needs_background": "light"
     },
     "output_type": "display_data"
    },
    {
     "data": {
      "image/png": "[encoded data removed]",
      "text/plain": [
       "<Figure size 432x288 with 1 Axes>"
      ]
     },
     "metadata": {
      "needs_background": "light"
     },
     "output_type": "display_data"
    }
   ],
   "source": [
    "#Using all fucntion defined above\n",
    "\n",
    "cab_data=data_clean(cab_data)\n",
    "cab_data=Missing_value(cab_data)\n",
    "cab_data=find_distance(cab_data)\n",
    "cab_data=Outlier(cab_data)\n",
    "cab_data=Anova(cab_data)\n",
    "cab_data=Scaling(cab_data)\n",
    "#cab_data=Create_dummy(cab_data) #Adding or removing dummy variable not affecting the model much."
   ]
  },
  {
   "cell_type": "markdown",
   "metadata": {},
   "source": [
    "#### Train Test Split "
   ]
  },
  {
   "cell_type": "code",
   "execution_count": 235,
   "metadata": {},
   "outputs": [
    {
     "name": "stdout",
     "output_type": "stream",
     "text": [
      "Shape of train data:  (12314, 6)\n",
      "Shape of test data:  (3079, 6)\n"
     ]
    }
   ],
   "source": [
    "#Train and test split\n",
    "Y = cab_data['fare_amount']\n",
    "X = cab_data.drop(['fare_amount'], axis=1)\n",
    "# Using train_test_split sampling function for test and train data split\n",
    "X_train, X_test, y_train, y_test = train_test_split(X,Y,test_size=0.20, random_state=4)\n",
    "print(\"Shape of train data: \", X_train.shape)\n",
    "print(\"Shape of test data: \", X_test.shape)"
   ]
  },
  {
   "cell_type": "code",
   "execution_count": 236,
   "metadata": {},
   "outputs": [],
   "source": [
    "#Checking for parameter giving the best accuracy in terms R-Square value\n",
    "\n",
    "#r2=[]\n",
    "#random=[]\n",
    "\n",
    "#for i in range(34):\n",
    "#    X_train, X_test, y_train, y_test = train_test_split(X,Y,test_size=0.2, random_state=i)\n",
    "#    fit_GB = GradientBoostingRegressor().fit(X_train, y_train)\n",
    "#    pred_test = fit_GB.predict(X_test)\n",
    "#    r2.append(r2_score(y_test,pred_test))\n",
    "#    random.append(i)\n",
    "\n",
    "#for test size 0.2, Gradeient Boosting\n",
    "# Create the pandas DataFrame \n",
    "#df = pd.DataFrame(r2, columns = ['r2_Score'])\n",
    "#df[\"Random\"]=random\n",
    "#df.nlargest(5, [\"r2_Score\"])"
   ]
  },
  {
   "cell_type": "code",
   "execution_count": 237,
   "metadata": {},
   "outputs": [
    {
     "name": "stdout",
     "output_type": "stream",
     "text": [
      "Root Mean Squared Error of train: 0.27135734048126503\n",
      "Root Mean Squared Error of test: 0.25619949155139743\n",
      "R^2 Score = 0.7678651726819854\n"
     ]
    },
    {
     "data": {
      "text/html": [
       "<table class=\"simpletable\">\n",
       "<caption>OLS Regression Results</caption>\n",
       "<tr>\n",
       "  <th>Dep. Variable:</th>       <td>fare_amount</td>   <th>  R-squared (uncentered):</th>      <td>   0.987</td> \n",
       "</tr>\n",
       "<tr>\n",
       "  <th>Model:</th>                   <td>OLS</td>       <th>  Adj. R-squared (uncentered):</th> <td>   0.987</td> \n",
       "</tr>\n",
       "<tr>\n",
       "  <th>Method:</th>             <td>Least Squares</td>  <th>  F-statistic:       </th>          <td>1.584e+05</td>\n",
       "</tr>\n",
       "<tr>\n",
       "  <th>Date:</th>             <td>Sat, 21 Nov 2020</td> <th>  Prob (F-statistic):</th>           <td>  0.00</td>  \n",
       "</tr>\n",
       "<tr>\n",
       "  <th>Time:</th>                 <td>22:12:08</td>     <th>  Log-Likelihood:    </th>          <td> -1411.4</td> \n",
       "</tr>\n",
       "<tr>\n",
       "  <th>No. Observations:</th>      <td> 12314</td>      <th>  AIC:               </th>          <td>   2835.</td> \n",
       "</tr>\n",
       "<tr>\n",
       "  <th>Df Residuals:</th>          <td> 12308</td>      <th>  BIC:               </th>          <td>   2879.</td> \n",
       "</tr>\n",
       "<tr>\n",
       "  <th>Df Model:</th>              <td>     6</td>      <th>                     </th>              <td> </td>    \n",
       "</tr>\n",
       "<tr>\n",
       "  <th>Covariance Type:</th>      <td>nonrobust</td>    <th>                     </th>              <td> </td>    \n",
       "</tr>\n",
       "</table>\n",
       "<table class=\"simpletable\">\n",
       "<tr>\n",
       "          <td></td>            <th>coef</th>     <th>std err</th>      <th>t</th>      <th>P>|t|</th>  <th>[0.025</th>    <th>0.975]</th>  \n",
       "</tr>\n",
       "<tr>\n",
       "  <th>passenger_count</th>  <td>    0.0053</td> <td>    0.002</td> <td>    2.726</td> <td> 0.006</td> <td>    0.001</td> <td>    0.009</td>\n",
       "</tr>\n",
       "<tr>\n",
       "  <th>pickup_year</th>      <td>    0.0007</td> <td> 5.16e-06</td> <td>  126.081</td> <td> 0.000</td> <td>    0.001</td> <td>    0.001</td>\n",
       "</tr>\n",
       "<tr>\n",
       "  <th>pickup_month</th>     <td>    0.0041</td> <td>    0.001</td> <td>    5.824</td> <td> 0.000</td> <td>    0.003</td> <td>    0.006</td>\n",
       "</tr>\n",
       "<tr>\n",
       "  <th>pickup_month_day</th> <td>   -0.0003</td> <td>    0.000</td> <td>   -0.955</td> <td> 0.339</td> <td>   -0.001</td> <td>    0.000</td>\n",
       "</tr>\n",
       "<tr>\n",
       "  <th>pickup_hour</th>      <td>    0.0007</td> <td>    0.000</td> <td>    1.939</td> <td> 0.053</td> <td> -8.1e-06</td> <td>    0.001</td>\n",
       "</tr>\n",
       "<tr>\n",
       "  <th>distance</th>         <td>    0.7782</td> <td>    0.004</td> <td>  193.143</td> <td> 0.000</td> <td>    0.770</td> <td>    0.786</td>\n",
       "</tr>\n",
       "</table>\n",
       "<table class=\"simpletable\">\n",
       "<tr>\n",
       "  <th>Omnibus:</th>       <td>4112.001</td> <th>  Durbin-Watson:     </th>  <td>   1.996</td> \n",
       "</tr>\n",
       "<tr>\n",
       "  <th>Prob(Omnibus):</th>  <td> 0.000</td>  <th>  Jarque-Bera (JB):  </th> <td>502237.400</td>\n",
       "</tr>\n",
       "<tr>\n",
       "  <th>Skew:</th>           <td> 0.560</td>  <th>  Prob(JB):          </th>  <td>    0.00</td> \n",
       "</tr>\n",
       "<tr>\n",
       "  <th>Kurtosis:</th>       <td>34.267</td>  <th>  Cond. No.          </th>  <td>3.31e+03</td> \n",
       "</tr>\n",
       "</table><br/><br/>Warnings:<br/>[1] Standard Errors assume that the covariance matrix of the errors is correctly specified.<br/>[2] The condition number is large, 3.31e+03. This might indicate that there are<br/>strong multicollinearity or other numerical problems."
      ],
      "text/plain": [
       "<class 'statsmodels.iolib.summary.Summary'>\n",
       "\"\"\"\n",
       "                                 OLS Regression Results                                \n",
       "=======================================================================================\n",
       "Dep. Variable:            fare_amount   R-squared (uncentered):                   0.987\n",
       "Model:                            OLS   Adj. R-squared (uncentered):              0.987\n",
       "Method:                 Least Squares   F-statistic:                          1.584e+05\n",
       "Date:                Sat, 21 Nov 2020   Prob (F-statistic):                        0.00\n",
       "Time:                        22:12:08   Log-Likelihood:                         -1411.4\n",
       "No. Observations:               12314   AIC:                                      2835.\n",
       "Df Residuals:                   12308   BIC:                                      2879.\n",
       "Df Model:                           6                                                  \n",
       "Covariance Type:            nonrobust                                                  \n",
       "====================================================================================\n",
       "                       coef    std err          t      P>|t|      [0.025      0.975]\n",
       "------------------------------------------------------------------------------------\n",
       "passenger_count      0.0053      0.002      2.726      0.006       0.001       0.009\n",
       "pickup_year          0.0007   5.16e-06    126.081      0.000       0.001       0.001\n",
       "pickup_month         0.0041      0.001      5.824      0.000       0.003       0.006\n",
       "pickup_month_day    -0.0003      0.000     -0.955      0.339      -0.001       0.000\n",
       "pickup_hour          0.0007      0.000      1.939      0.053    -8.1e-06       0.001\n",
       "distance             0.7782      0.004    193.143      0.000       0.770       0.786\n",
       "==============================================================================\n",
       "Omnibus:                     4112.001   Durbin-Watson:                   1.996\n",
       "Prob(Omnibus):                  0.000   Jarque-Bera (JB):           502237.400\n",
       "Skew:                           0.560   Prob(JB):                         0.00\n",
       "Kurtosis:                      34.267   Cond. No.                     3.31e+03\n",
       "==============================================================================\n",
       "\n",
       "Warnings:\n",
       "[1] Standard Errors assume that the covariance matrix of the errors is correctly specified.\n",
       "[2] The condition number is large, 3.31e+03. This might indicate that there are\n",
       "strong multicollinearity or other numerical problems.\n",
       "\"\"\""
      ]
     },
     "execution_count": 237,
     "metadata": {},
     "output_type": "execute_result"
    }
   ],
   "source": [
    "#Linear Regression MULTIPLE\n",
    "\n",
    "#Import libraries for LR\n",
    "import statsmodels.api as sm\n",
    "\n",
    "# Train the model using the training sets\n",
    "model = sm.OLS(y_train, X_train).fit()\n",
    "# predictions for train model\n",
    "predictions_LR = model.predict(X_train)\n",
    "# Calulating RMSE\n",
    "print('Root Mean Squared Error of train:', np.sqrt(mean_squared_error(y_train,predictions_LR)))\n",
    "# predictions for train model\n",
    "predictions_LR = model.predict(X_test)\n",
    "# Calulating RMSE\n",
    "RMSE_test_LR = np.sqrt(mean_squared_error(y_test,predictions_LR))\n",
    "print('Root Mean Squared Error of test:',RMSE_test_LR)\n",
    "## R2 ##\n",
    "R2_LR=r2_score(y_test,predictions_LR)\n",
    "print(\"R^2 Score = \"+str(R2_LR))\n",
    "\n",
    "\n",
    "model.summary()"
   ]
  },
  {
   "cell_type": "code",
   "execution_count": 238,
   "metadata": {},
   "outputs": [
    {
     "name": "stdout",
     "output_type": "stream",
     "text": [
      "Root Mean Squared Error For Training data = 0.2932231790670182\n",
      "Root Mean Squared Error For Test data = 0.2818550752680866\n",
      "R^2 Score = 0.7190458221114435\n"
     ]
    }
   ],
   "source": [
    "#Decision Tree Regressor #####################\n",
    "fit_DT = DecisionTreeRegressor(max_depth = 2).fit(X_train,y_train)\n",
    "#prediction on train data\n",
    "pred_train_DT = fit_DT.predict(X_train)\n",
    "#prediction on test data\n",
    "pred_test_DT = fit_DT.predict(X_test)\n",
    "\n",
    "##calculating RMSE for train data\n",
    "RMSE_train_DT = np.sqrt(mean_squared_error(y_train, pred_train_DT))\n",
    "##calculating RMSE for test data\n",
    "RMSE_test_DT = np.sqrt(mean_squared_error(y_test, pred_test_DT))\n",
    "print(\"Root Mean Squared Error For Training data = \"+str(RMSE_train_DT))\n",
    "print(\"Root Mean Squared Error For Test data = \"+str(RMSE_test_DT))\n",
    "\n",
    "## R^2 calculation for test data\n",
    "R2_DT=r2_score(y_test, pred_test_DT)\n",
    "print(\"R^2 Score = \"+str(R2_DT))\n",
    "\n"
   ]
  },
  {
   "cell_type": "code",
   "execution_count": 239,
   "metadata": {},
   "outputs": [
    {
     "name": "stdout",
     "output_type": "stream",
     "text": [
      "Root Mean Squared Error for train: 0.09504469664130388\n",
      "Root Mean Squared Error for test: 0.24387271976700473\n",
      "R^2 Score = 0.7896656425007441\n"
     ]
    }
   ],
   "source": [
    "#Random Forest\n",
    "#from sklearn.ensemble import RandomForestRegressor\n",
    "#from sklearn.metrics import mean_squared_error\n",
    "#from sklearn.metrics import r2_score\n",
    "model = RandomForestRegressor(n_estimators=100, random_state=20).fit(X_train, y_train)\n",
    "y_pred = model.predict(X_train)\n",
    "print('Root Mean Squared Error for train:', np.sqrt(mean_squared_error(y_train, y_pred)))\n",
    "test_pred = model.predict(X_test)\n",
    "RMSE_test_RF=np.sqrt(mean_squared_error(y_test,test_pred))\n",
    "print('Root Mean Squared Error for test:', RMSE_test_RF)\n",
    "## R2 ##\n",
    "R2_RF=r2_score(y_test,test_pred)\n",
    "print(\"R^2 Score = \"+str(R2_RF))"
   ]
  },
  {
   "cell_type": "code",
   "execution_count": 254,
   "metadata": {},
   "outputs": [
    {
     "name": "stdout",
     "output_type": "stream",
     "text": [
      "Root Mean Squared Error of train: 0.22688438724026877\n",
      "Root Mean Squared Error of test: 0.22594141166839168\n",
      "R^2 Score for test = 0.8194591630191854\n"
     ]
    }
   ],
   "source": [
    "#Gradient Boosting ####################\n",
    "\n",
    "from sklearn.ensemble import GradientBoostingRegressor\n",
    "from sklearn.metrics import mean_squared_error\n",
    "from sklearn.metrics import r2_score\n",
    "# Building model on top of training dataset\n",
    "fit_GB = GradientBoostingRegressor(random_state=200).fit(X_train, y_train)\n",
    "# Calculating RMSE for training data to check for over fitting\n",
    "pred_train = fit_GB.predict(X_train)\n",
    "# Calulating RMSE\n",
    "print('Root Mean Squared Error of train:', np.sqrt(mean_squared_error(y_train,pred_train)))\n",
    "# Calculating RMSE for test data to check accuracy\n",
    "pred_test = fit_GB.predict(X_test)\n",
    "# Calulating RMSE\n",
    "RMSE_test_GB=np.sqrt(mean_squared_error(y_test,pred_test))\n",
    "print('Root Mean Squared Error of test:', RMSE_test_GB)\n",
    "R2_GB=r2_score(y_test,pred_test)\n",
    "print(\"R^2 Score for test = \"+str(R2_GB))"
   ]
  },
  {
   "cell_type": "code",
   "execution_count": 241,
   "metadata": {},
   "outputs": [],
   "source": [
    "#Out of all below model, we see Gradient Bossting giving better R2-Square and lesser RMSE. \n",
    "#Hence we select Gradient Boosting model."
   ]
  },
  {
   "cell_type": "code",
   "execution_count": 242,
   "metadata": {},
   "outputs": [
    {
     "name": "stdout",
     "output_type": "stream",
     "text": [
      "\n",
      " Summary for all model\n",
      "-----------------------------------------\n",
      "               Model      RMSE  R-Square\n",
      "0  Linear Regression  0.256199  0.767865\n",
      "1      Decision Tree  0.281855  0.719046\n",
      "2      Random Forest  0.243873  0.789666\n",
      "3  Gradient Boosting  0.225931  0.819475\n"
     ]
    }
   ],
   "source": [
    "measure_table = {'Model': ['Linear Regression','Decision Tree','Random Forest','Gradient Boosting'],\n",
    "        'RMSE': [RMSE_test_LR,RMSE_test_DT,RMSE_test_RF,RMSE_test_GB],\n",
    "        'R-Square': [R2_LR,R2_DT,R2_RF,R2_GB],\n",
    "        }\n",
    "\n",
    "print(\"\\n Summary for all model\")\n",
    "print(\"-----------------------------------------\")\n",
    "print(pd.DataFrame(measure_table, columns = ['Model', 'RMSE', 'R-Square']))"
   ]
  },
  {
   "cell_type": "markdown",
   "metadata": {},
   "source": [
    "#### From Above Summary, We see Gradeient Boosting Model has lesser RMSE and Higher R-Square value, so we will select Gradient Boosting model as best Model."
   ]
  },
  {
   "cell_type": "markdown",
   "metadata": {},
   "source": [
    "## predicting given test data"
   ]
  },
  {
   "cell_type": "code",
   "execution_count": 243,
   "metadata": {},
   "outputs": [
    {
     "name": "stdout",
     "output_type": "stream",
     "text": [
      "Shape of dataframe ----- (9914, 6)\n",
      "\n",
      "Data type of each Variable are-------------\n",
      "\n",
      "<class 'pandas.core.frame.DataFrame'>\n",
      "RangeIndex: 9914 entries, 0 to 9913\n",
      "Data columns (total 6 columns):\n",
      "pickup_datetime      9914 non-null object\n",
      "pickup_longitude     9914 non-null float64\n",
      "pickup_latitude      9914 non-null float64\n",
      "dropoff_longitude    9914 non-null float64\n",
      "dropoff_latitude     9914 non-null float64\n",
      "passenger_count      9914 non-null int64\n",
      "dtypes: float64(4), int64(1), object(1)\n",
      "memory usage: 464.8+ KB\n",
      "None\n",
      "<class 'pandas.core.frame.DataFrame'>\n",
      "RangeIndex: 9914 entries, 0 to 9913\n",
      "Data columns (total 6 columns):\n",
      "pickup_datetime      9914 non-null datetime64[ns, UTC]\n",
      "pickup_longitude     9914 non-null float64\n",
      "pickup_latitude      9914 non-null float64\n",
      "dropoff_longitude    9914 non-null float64\n",
      "dropoff_latitude     9914 non-null float64\n",
      "passenger_count      9914 non-null int64\n",
      "dtypes: datetime64[ns, UTC](1), float64(4), int64(1)\n",
      "memory usage: 464.8 KB\n",
      "\n",
      "Shape of dataframe: (9914, 9)\n",
      "\n",
      "Shape of dataframe: (9914, 9)\n",
      "\n",
      "Data Cleaning done, Invalid value removed..\n",
      "\n",
      "                   Missing Value\n",
      "pickup_longitude               0\n",
      "pickup_latitude                0\n",
      "dropoff_longitude              0\n",
      "dropoff_latitude               0\n",
      "passenger_count                0\n",
      "pickup_year                    0\n",
      "pickup_month                   0\n",
      "pickup_month_day               0\n",
      "pickup_hour                    0\n",
      "\n",
      "Shape of data after missing value removal (9914, 9)\n",
      "\n",
      "Distance feature created in our dataset, pickup and dropoff cordinates are removed\n",
      "\n",
      "\n",
      "Outlier are removed...\n"
     ]
    },
    {
     "data": {
      "image/png": "[encoded data removed]",
      "text/plain": [
       "<Figure size 504x216 with 1 Axes>"
      ]
     },
     "metadata": {
      "needs_background": "light"
     },
     "output_type": "display_data"
    },
    {
     "name": "stdout",
     "output_type": "stream",
     "text": [
      "\n",
      "Distribution after Scaling..\n",
      "\n"
     ]
    },
    {
     "data": {
      "image/png": "[encoded data removed]",
      "text/plain": [
       "<Figure size 432x288 with 1 Axes>"
      ]
     },
     "metadata": {
      "needs_background": "light"
     },
     "output_type": "display_data"
    }
   ],
   "source": [
    "test_data = pd.read_csv(\"C:/Users/SAURABH SHRIVASTAVA/OneDrive/Data Scientist/Edwisor project 2/test.csv\")\n",
    "\n",
    "test_data=data_clean(test_data)\n",
    "test_data=Missing_value(test_data)\n",
    "test_data=find_distance(test_data)\n",
    "test_data=Outlier(test_data)\n",
    "test_data=Scaling(test_data)\n"
   ]
  },
  {
   "cell_type": "code",
   "execution_count": 244,
   "metadata": {},
   "outputs": [],
   "source": [
    "#Selecting Gradient Boosting model, to predict given test data\n",
    "pred_new = fit_GB.predict(test_data)"
   ]
  },
  {
   "cell_type": "code",
   "execution_count": 245,
   "metadata": {},
   "outputs": [
    {
     "data": {
      "text/html": [
       "<div>\n",
       "<style scoped>\n",
       "    .dataframe tbody tr th:only-of-type {\n",
       "        vertical-align: middle;\n",
       "    }\n",
       "\n",
       "    .dataframe tbody tr th {\n",
       "        vertical-align: top;\n",
       "    }\n",
       "\n",
       "    .dataframe thead th {\n",
       "        text-align: right;\n",
       "    }\n",
       "</style>\n",
       "<table border=\"1\" class=\"dataframe\">\n",
       "  <thead>\n",
       "    <tr style=\"text-align: right;\">\n",
       "      <th></th>\n",
       "      <th>passenger_count</th>\n",
       "      <th>pickup_year</th>\n",
       "      <th>pickup_month</th>\n",
       "      <th>pickup_month_day</th>\n",
       "      <th>pickup_hour</th>\n",
       "      <th>distance</th>\n",
       "      <th>Predicted Fare</th>\n",
       "    </tr>\n",
       "  </thead>\n",
       "  <tbody>\n",
       "    <tr>\n",
       "      <th>0</th>\n",
       "      <td>1</td>\n",
       "      <td>2015</td>\n",
       "      <td>1</td>\n",
       "      <td>27</td>\n",
       "      <td>13</td>\n",
       "      <td>1.199965</td>\n",
       "      <td>2.359394</td>\n",
       "    </tr>\n",
       "    <tr>\n",
       "      <th>1</th>\n",
       "      <td>1</td>\n",
       "      <td>2015</td>\n",
       "      <td>1</td>\n",
       "      <td>27</td>\n",
       "      <td>13</td>\n",
       "      <td>1.232560</td>\n",
       "      <td>2.412904</td>\n",
       "    </tr>\n",
       "    <tr>\n",
       "      <th>2</th>\n",
       "      <td>1</td>\n",
       "      <td>2011</td>\n",
       "      <td>10</td>\n",
       "      <td>8</td>\n",
       "      <td>11</td>\n",
       "      <td>0.482426</td>\n",
       "      <td>1.733264</td>\n",
       "    </tr>\n",
       "    <tr>\n",
       "      <th>3</th>\n",
       "      <td>1</td>\n",
       "      <td>2012</td>\n",
       "      <td>12</td>\n",
       "      <td>1</td>\n",
       "      <td>21</td>\n",
       "      <td>1.085189</td>\n",
       "      <td>2.199160</td>\n",
       "    </tr>\n",
       "    <tr>\n",
       "      <th>4</th>\n",
       "      <td>1</td>\n",
       "      <td>2012</td>\n",
       "      <td>12</td>\n",
       "      <td>1</td>\n",
       "      <td>21</td>\n",
       "      <td>1.854734</td>\n",
       "      <td>2.735288</td>\n",
       "    </tr>\n",
       "  </tbody>\n",
       "</table>\n",
       "</div>"
      ],
      "text/plain": [
       "   passenger_count  pickup_year  pickup_month  pickup_month_day  pickup_hour  \\\n",
       "0                1         2015             1                27           13   \n",
       "1                1         2015             1                27           13   \n",
       "2                1         2011            10                 8           11   \n",
       "3                1         2012            12                 1           21   \n",
       "4                1         2012            12                 1           21   \n",
       "\n",
       "   distance  Predicted Fare  \n",
       "0  1.199965        2.359394  \n",
       "1  1.232560        2.412904  \n",
       "2  0.482426        1.733264  \n",
       "3  1.085189        2.199160  \n",
       "4  1.854734        2.735288  "
      ]
     },
     "execution_count": 245,
     "metadata": {},
     "output_type": "execute_result"
    }
   ],
   "source": [
    "test_data[\"Predicted Fare\"]=pred_new\n",
    "\n",
    "test_data.to_csv(\"C:/Users/SAURABH SHRIVASTAVA/OneDrive/Data Scientist/Edwisor project 2/predicted_test.csv\")\n",
    "test_data.head(5)"
   ]
  },
  {
   "cell_type": "markdown",
   "metadata": {},
   "source": [
    "# Data Visualisation"
   ]
  },
  {
   "cell_type": "code",
   "execution_count": 246,
   "metadata": {},
   "outputs": [
    {
     "data": {
      "text/plain": [
       "<matplotlib.axes._subplots.AxesSubplot at 0x1f8f382bd30>"
      ]
     },
     "execution_count": 246,
     "metadata": {},
     "output_type": "execute_result"
    },
    {
     "data": {
      "image/png": "[encoded data removed]",
      "text/plain": [
       "<Figure size 720x360 with 1 Axes>"
      ]
     },
     "metadata": {
      "needs_background": "light"
     },
     "output_type": "display_data"
    },
    {
     "data": {
      "image/png": "[encoded data removed]",
      "text/plain": [
       "<Figure size 720x360 with 1 Axes>"
      ]
     },
     "metadata": {
      "needs_background": "light"
     },
     "output_type": "display_data"
    }
   ],
   "source": [
    "############################## Bar plot of fare amount vs passenger count ####\n",
    "############################## Bar plot of fare amount vs Pickup year ########\n",
    "# Trip distance vs fare amount\n",
    "#plt.subplots(111, figsize=(12,6))\n",
    "#fig.figure()\n",
    "\n",
    "plt.figure(figsize=(10,5))\n",
    "sns.countplot(cab_data['pickup_year'])\n",
    "#Cab Count for Year 2015 is less as compared to other previous year.\n",
    "\n",
    "plt.figure(figsize=(10,5))\n",
    "sns.countplot(cab_data['pickup_month'])\n",
    "#Cab counts are less from 7th to 12th Month i.e. July to December Month"
   ]
  },
  {
   "cell_type": "code",
   "execution_count": 247,
   "metadata": {},
   "outputs": [
    {
     "data": {
      "text/plain": [
       "<matplotlib.axes._subplots.AxesSubplot at 0x1f8f51722b0>"
      ]
     },
     "execution_count": 247,
     "metadata": {},
     "output_type": "execute_result"
    },
    {
     "data": {
      "image/png": "[encoded data removed]",
      "text/plain": [
       "<Figure size 1440x360 with 1 Axes>"
      ]
     },
     "metadata": {
      "needs_background": "light"
     },
     "output_type": "display_data"
    },
    {
     "data": {
      "image/png": "[encoded data removed]",
      "text/plain": [
       "<Figure size 720x360 with 1 Axes>"
      ]
     },
     "metadata": {
      "needs_background": "light"
     },
     "output_type": "display_data"
    }
   ],
   "source": [
    "plt.figure(figsize=(20,5))\n",
    "sns.countplot(cab_data['pickup_month_day'])\n",
    "#Last Month days cab taken are less\n",
    "\n",
    "plt.figure(figsize=(10,5))\n",
    "sns.countplot(cab_data['pickup_hour'])\n",
    "#Cab requirement is in peak from 6P.M to 11P.M, whereas cab count are less in morning i.e 2A.M to 6A.M"
   ]
  },
  {
   "cell_type": "code",
   "execution_count": 248,
   "metadata": {
    "scrolled": true
   },
   "outputs": [
    {
     "data": {
      "text/plain": [
       "Text(0.5, 1.0, 'PLot')"
      ]
     },
     "execution_count": 248,
     "metadata": {},
     "output_type": "execute_result"
    },
    {
     "data": {
      "image/png": "[encoded data removed]",
      "text/plain": [
       "<Figure size 720x360 with 1 Axes>"
      ]
     },
     "metadata": {
      "needs_background": "light"
     },
     "output_type": "display_data"
    }
   ],
   "source": [
    "#Plot between passenger count and fare amount\n",
    "plt.figure(figsize=(10,5))\n",
    "sns.barplot(x='passenger_count', y='fare_amount', data=cab_data, estimator=sum).set_title(\"PLot\")\n",
    "\n",
    "#Cab fare are highest for single passengers"
   ]
  },
  {
   "cell_type": "code",
   "execution_count": 249,
   "metadata": {},
   "outputs": [
    {
     "data": {
      "text/plain": [
       "Text(0.5, 0, 'Passenger Count')"
      ]
     },
     "execution_count": 249,
     "metadata": {},
     "output_type": "execute_result"
    },
    {
     "data": {
      "image/png": "[encoded data removed]",
      "text/plain": [
       "<Figure size 864x504 with 1 Axes>"
      ]
     },
     "metadata": {
      "needs_background": "light"
     },
     "output_type": "display_data"
    }
   ],
   "source": [
    "plt.figure(figsize=(12,7))\n",
    "plt.bar(cab_data[\"passenger_count\"], cab_data['fare_amount'])\n",
    "plt.xlabel(\"Passenger Count\")"
   ]
  }
 ],
 "metadata": {
  "kernelspec": {
   "display_name": "Python 3",
   "language": "python",
   "name": "python3"
  },
  "language_info": {
   "codemirror_mode": {
    "name": "ipython",
    "version": 3
   },
   "file_extension": ".py",
   "mimetype": "text/x-python",
   "name": "python",
   "nbconvert_exporter": "python",
   "pygments_lexer": "ipython3",
   "version": "3.7.3"
  }
 },
 "nbformat": 4,
 "nbformat_minor": 2
}
